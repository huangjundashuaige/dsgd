{
 "cells": [
  {
   "cell_type": "code",
   "execution_count": 75,
   "metadata": {},
   "outputs": [],
   "source": [
    "import numpy as np"
   ]
  },
  {
   "cell_type": "code",
   "execution_count": 2,
   "metadata": {},
   "outputs": [],
   "source": [
    "lr = 0.05\n",
    "epoch = 100"
   ]
  },
  {
   "cell_type": "code",
   "execution_count": 71,
   "metadata": {},
   "outputs": [],
   "source": [
    "class dsgd(object):\n",
    "    def __init__(self,func,der_func,start_point,lr=0.05,epoch=100):\n",
    "        self.func = func\n",
    "        self.der_func = der_func\n",
    "        self.start_point = np.asarray(start_point)\n",
    "        self.current_solution = np.asarray(start_point)\n",
    "        self.lr = lr\n",
    "        self.epoch = epoch\n",
    "    def forward(self,args):\n",
    "        return self.func(args)\n",
    "    def cal_der(self,args):\n",
    "        return self.der_func(args)\n",
    "    def gd(self,args):\n",
    "        self.current_solution = self.current_solution - lr*self.cal_der(args)\n",
    "        return self.forward(args)\n",
    "    def process(self):\n",
    "        for time in range(self.epoch):\n",
    "            print(self.gd(np.asarray(self.current_solution)))"
   ]
  },
  {
   "cell_type": "code",
   "execution_count": 72,
   "metadata": {},
   "outputs": [],
   "source": [
    "def func(args):\n",
    "    return np.asarray(args[0]**2+args[1]**3)\n",
    "def der_func(args):\n",
    "    return np.asarray(2*args[0],3*args[1]**2)\n",
    "test = dsgd(func,der_func,(10,10))"
   ]
  },
  {
   "cell_type": "code",
   "execution_count": 73,
   "metadata": {},
   "outputs": [
    {
     "name": "stdout",
     "output_type": "stream",
     "text": [
      "1100\n",
      "810.0\n",
      "597.0509999999999\n",
      "440.56458899999984\n",
      "325.4762574809999\n",
      "240.75897610464895\n",
      "178.33758894509907\n",
      "132.29578158647334\n",
      "98.29664496539088\n",
      "73.15920053273996\n",
      "54.548823734273114\n",
      "40.7508634044687\n",
      "30.505043852626407\n",
      "22.884285157487312\n",
      "17.20599151283561\n",
      "12.967079395609318\n",
      "9.796369261428445\n",
      "7.419681581025028\n",
      "5.634231868016636\n",
      "4.289835068098134\n",
      "3.2750985940578854\n",
      "2.5072720268938182\n",
      "1.9247786805843459\n",
      "1.4817153302587776\n",
      "1.1437973301700082\n",
      "0.8853660057671369\n",
      "0.6871773973835356\n",
      "0.5347662418278245\n",
      "0.41723386479201807\n",
      "0.32634879977800374\n",
      "0.255878378037309\n",
      "0.20109112101850513\n",
      "0.1583856118002288\n",
      "0.12501316051033504\n",
      "0.09887013411348852\n",
      "0.0783421152509111\n",
      "0.06218668987847834\n",
      "0.049445080088467666\n",
      "0.03937535974980907\n",
      "0.03140185331351688\n",
      "0.025076696070837724\n",
      "0.020050554889920674\n",
      "0.01605026571271895\n",
      "0.012861706774925204\n",
      "0.010316645325906476\n",
      "0.008282607923044482\n",
      "0.006655057695070944\n",
      "0.0053513366402356466\n",
      "0.004305962070960218\n",
      "0.0034669648545150285\n",
      "0.00279303136781733\n",
      "0.0022512671981282915\n",
      "0.001815443125536986\n",
      "0.0014646162023786461\n",
      "0.0011820433242624017\n",
      "0.0009543234546972694\n",
      "0.0007707190342353921\n",
      "0.0006226181369240777\n",
      "0.0005031074302004988\n",
      "0.0004066325514062692\n",
      "0.00032872759015515577\n",
      "0.0002657993059688968\n",
      "0.00021495477717541422\n",
      "0.0001738635698913886\n",
      "0.00014064738768853675\n",
      "0.00011379163026749199\n",
      "9.20744430254661e-05\n",
      "7.450974805954099e-05\n",
      "6.0301464401526116e-05\n",
      "4.8806692582270316e-05\n",
      "3.950608816965686e-05\n",
      "3.1980005790197114e-05\n",
      "2.5889278907812673e-05\n",
      "2.0959726620070215e-05\n",
      "1.696965896601375e-05\n",
      "1.3739796176809906e-05\n",
      "1.1125132393268983e-05\n",
      "9.008366508796483e-06\n",
      "7.294596630136389e-06\n",
      "5.907033874000665e-06\n",
      "4.783538767957788e-06\n",
      "3.873821731628383e-06\n",
      "3.137179837884687e-06\n",
      "2.5406667761952896e-06\n",
      "2.057612846092022e-06\n",
      "1.6664278454600646e-06\n",
      "1.349632644674162e-06\n",
      "1.0930756616878218e-06\n",
      "8.852988629839117e-07\n",
      "7.170247026621981e-07\n",
      "5.807408917937529e-07\n",
      "4.7036431579558434e-07\n",
      "3.809689928141112e-07\n",
      "3.0856585510678244e-07\n",
      "2.499244704425337e-07\n",
      "2.024287082290554e-07\n",
      "1.6395988141290454e-07\n",
      "1.3280212957228515e-07\n",
      "1.0756580703624083e-07\n",
      "8.7125447537636e-08\n"
     ]
    }
   ],
   "source": [
    "test.process()"
   ]
  },
  {
   "cell_type": "code",
   "execution_count": 38,
   "metadata": {},
   "outputs": [],
   "source": [
    "def f(*args):\n",
    "    print(args)"
   ]
  },
  {
   "cell_type": "code",
   "execution_count": 35,
   "metadata": {},
   "outputs": [
    {
     "name": "stdout",
     "output_type": "stream",
     "text": [
      "((1, 1),)\n"
     ]
    }
   ],
   "source": [
    "f((1,1))"
   ]
  },
  {
   "cell_type": "code",
   "execution_count": 55,
   "metadata": {},
   "outputs": [
    {
     "ename": "TypeError",
     "evalue": "'int' object is not subscriptable",
     "output_type": "error",
     "traceback": [
      "\u001b[0;31m---------------------------------------------------------------------------\u001b[0m",
      "\u001b[0;31mTypeError\u001b[0m                                 Traceback (most recent call last)",
      "\u001b[0;32m<ipython-input-55-a0ba06110dcd>\u001b[0m in \u001b[0;36m<module>\u001b[0;34m()\u001b[0m\n\u001b[0;32m----> 1\u001b[0;31m \u001b[0;34m(\u001b[0m\u001b[0mnp\u001b[0m\u001b[0;34m.\u001b[0m\u001b[0masarray\u001b[0m\u001b[0;34m(\u001b[0m\u001b[0;34m[\u001b[0m\u001b[0;36m1\u001b[0m\u001b[0;34m,\u001b[0m\u001b[0;36m2\u001b[0m\u001b[0;34m]\u001b[0m\u001b[0;34m)\u001b[0m \u001b[0;34m-\u001b[0m \u001b[0mnp\u001b[0m\u001b[0;34m.\u001b[0m\u001b[0masarray\u001b[0m\u001b[0;34m(\u001b[0m\u001b[0;34m[\u001b[0m\u001b[0;36m2\u001b[0m\u001b[0;34m,\u001b[0m\u001b[0;36m3\u001b[0m\u001b[0;34m]\u001b[0m\u001b[0;34m)\u001b[0m\u001b[0;34m)\u001b[0m\u001b[0;34m**\u001b[0m\u001b[0;36m2\u001b[0m\u001b[0;34m[\u001b[0m\u001b[0;36m0\u001b[0m\u001b[0;34m]\u001b[0m\u001b[0;34m\u001b[0m\u001b[0m\n\u001b[0m",
      "\u001b[0;31mTypeError\u001b[0m: 'int' object is not subscriptable"
     ]
    }
   ],
   "source": [
    "(np.asarray([1,2]) - np.asarray([2,3]))**2"
   ]
  },
  {
   "cell_type": "code",
   "execution_count": 76,
   "metadata": {},
   "outputs": [],
   "source": [
    "arr = np.asarray([1,2])"
   ]
  },
  {
   "cell_type": "code",
   "execution_count": 105,
   "metadata": {},
   "outputs": [],
   "source": [
    "def f(args):\n",
    "    args[0] = \"b\""
   ]
  },
  {
   "cell_type": "code",
   "execution_count": 107,
   "metadata": {},
   "outputs": [
    {
     "ename": "TypeError",
     "evalue": "'str' object does not support item assignment",
     "output_type": "error",
     "traceback": [
      "\u001b[0;31m---------------------------------------------------------------------------\u001b[0m",
      "\u001b[0;31mTypeError\u001b[0m                                 Traceback (most recent call last)",
      "\u001b[0;32m<ipython-input-107-9f0a917f3ea2>\u001b[0m in \u001b[0;36m<module>\u001b[0;34m()\u001b[0m\n\u001b[1;32m      1\u001b[0m \u001b[0marr\u001b[0m \u001b[0;34m=\u001b[0m \u001b[0;34m\"ab\"\u001b[0m\u001b[0;34m\u001b[0m\u001b[0m\n\u001b[0;32m----> 2\u001b[0;31m \u001b[0mf\u001b[0m\u001b[0;34m(\u001b[0m\u001b[0marr\u001b[0m\u001b[0;34m)\u001b[0m\u001b[0;34m\u001b[0m\u001b[0m\n\u001b[0m\u001b[1;32m      3\u001b[0m \u001b[0mprint\u001b[0m\u001b[0;34m(\u001b[0m\u001b[0marr\u001b[0m\u001b[0;34m)\u001b[0m\u001b[0;34m\u001b[0m\u001b[0m\n",
      "\u001b[0;32m<ipython-input-105-3b0434d65173>\u001b[0m in \u001b[0;36mf\u001b[0;34m(args)\u001b[0m\n\u001b[1;32m      1\u001b[0m \u001b[0;32mdef\u001b[0m \u001b[0mf\u001b[0m\u001b[0;34m(\u001b[0m\u001b[0margs\u001b[0m\u001b[0;34m)\u001b[0m\u001b[0;34m:\u001b[0m\u001b[0;34m\u001b[0m\u001b[0m\n\u001b[0;32m----> 2\u001b[0;31m     \u001b[0margs\u001b[0m\u001b[0;34m[\u001b[0m\u001b[0;36m0\u001b[0m\u001b[0;34m]\u001b[0m \u001b[0;34m=\u001b[0m \u001b[0;34m\"b\"\u001b[0m\u001b[0;34m\u001b[0m\u001b[0m\n\u001b[0m",
      "\u001b[0;31mTypeError\u001b[0m: 'str' object does not support item assignment"
     ]
    }
   ],
   "source": [
    "arr = \"ab\"\n",
    "f(arr)\n",
    "print(arr)"
   ]
  },
  {
   "cell_type": "code",
   "execution_count": 108,
   "metadata": {},
   "outputs": [
    {
     "name": "stdout",
     "output_type": "stream",
     "text": [
      "ab\n"
     ]
    }
   ],
   "source": [
    "print(arr)"
   ]
  },
  {
   "cell_type": "code",
   "execution_count": null,
   "metadata": {},
   "outputs": [],
   "source": []
  }
 ],
 "metadata": {
  "kernelspec": {
   "display_name": "Python 3",
   "language": "python",
   "name": "python3"
  },
  "language_info": {
   "codemirror_mode": {
    "name": "ipython",
    "version": 3
   },
   "file_extension": ".py",
   "mimetype": "text/x-python",
   "name": "python",
   "nbconvert_exporter": "python",
   "pygments_lexer": "ipython3",
   "version": "3.6.5"
  }
 },
 "nbformat": 4,
 "nbformat_minor": 2
}
